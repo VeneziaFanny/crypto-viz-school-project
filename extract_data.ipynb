{
 "cells": [
  {
   "cell_type": "markdown",
   "metadata": {},
   "source": [
    "#### Bootstrap crypto viz"
   ]
  },
  {
   "cell_type": "markdown",
   "metadata": {},
   "source": [
    "#### Analyse csv file with pandas"
   ]
  },
  {
   "cell_type": "code",
   "execution_count": 8,
   "metadata": {},
   "outputs": [],
   "source": [
    "import pandas as pd\n",
    "from tabulate import tabulate\n",
    "import io"
   ]
  },
  {
   "cell_type": "code",
   "execution_count": 12,
   "metadata": {},
   "outputs": [
    {
     "name": "stderr",
     "output_type": "stream",
     "text": [
      "C:\\Users\\fvenezia\\AppData\\Local\\Temp\\ipykernel_25264\\1076328023.py:2: DtypeWarning: Columns (6,14) have mixed types. Specify dtype option on import or set low_memory=False.\n",
      "  df = pd.read_csv('Liquor_sales.csv')\n"
     ]
    },
    {
     "name": "stdout",
     "output_type": "stream",
     "text": [
      "\n",
      "============\n",
      "First 5 Rows\n",
      "============\n",
      "\n",
      "+---+---------------------+------------+--------------+--------------------------------------+--------------------------+--------------+----------+------------------------------+---------------+--------+-----------+------------------------------------+---------------+---------------------------+-------------+---------------------------------+------+--------------------+-------------------+---------------------+--------------+----------------+----------------------+-----------------------+\n",
      "|   | Invoice/Item Number |    Date    | Store Number |              Store Name              |         Address          |     City     | Zip Code |        Store Location        | County Number | County | Category  |           Category Name            | Vendor Number |        Vendor Name        | Item Number |        Item Description         | Pack | Bottle Volume (ml) | State Bottle Cost | State Bottle Retail | Bottles Sold | Sale (Dollars) | Volume Sold (Liters) | Volume Sold (Gallons) |\n",
      "+---+---------------------+------------+--------------+--------------------------------------+--------------------------+--------------+----------+------------------------------+---------------+--------+-----------+------------------------------------+---------------+---------------------------+-------------+---------------------------------+------+--------------------+-------------------+---------------------+--------------+----------------+----------------------+-----------------------+\n",
      "| 0 |    S24127700024     | 02/19/2015 |     3678     |           Smoke Shop, The            |     1918 SE 14TH ST      |  DES MOINES  |  50320   | POINT (-93.597011 41.570844) |     77.0      |  Polk  | 1031200.0 |           VODKA FLAVORED           |     380.0     | Phillips Beverage Company |    41783    |  Uv Blue Raspberry Vodka Mini   |  6   |        500         |       4.89        |        7.34         |      2       |     14.68      |         1.0          |         0.26          |\n",
      "| 1 |    S15066200002     | 10/10/2013 |     2633     |     Hy-Vee #3 / BDI / Des Moines     |     3221 SE 14TH ST      |  DES MOINES  |  50320   | POINT (-93.596754 41.554101) |     77.0      |  Polk  | 1082900.0 | MISC. IMPORTED CORDIALS & LIQUEURS |     305.0     |          MHW Ltd          |   904969    | Sabe Premiom Sake Double Barrel |  6   |        750         |       14.99       |        22.49        |      6       |     134.94     |         4.5          |         1.19          |\n",
      "| 2 |    S19323500030     | 06/03/2014 |     2607     | Hy-Vee Wine and Spirits / Shenandoah |      520 SO FREMONT      |  SHENANDOAH  |  51601   | POINT (-95.385111 40.761736) |     73.0      |  Page  | 1062200.0 |  PUERTO RICO & VIRGIN ISLANDS RUM  |     434.0     |      Luxco-St Louis       |    45277    |       Paramount White Rum       |  12  |        1000        |       4.34        |        6.51         |      12      |     78.12      |         12.0         |         3.17          |\n",
      "| 3 |    S23334500013     | 01/06/2015 |     4810     |        Kum & Go #518 / Ankeny        | 3603 NE OTTERVIEW CIRCLE |    ANKENY    |  50021   | POINT (-93.572458 41.760989) |     77.0      |  Polk  | 1062200.0 |  PUERTO RICO & VIRGIN ISLANDS RUM  |     35.0      |   Bacardi U.S.A., Inc.    |    43121    |    Bacardi Superior Rum Mini    |  12  |        500         |       5.54        |        8.31         |      1       |      8.31      |         0.5          |         0.13          |\n",
      "| 4 |    S09742200010     | 12/27/2012 |     4025     |       Karam Kaur Khasriya Llc        |       702 13TH ST        | BELLE PLAINE |  52208   | POINT (-92.277759 41.897052) |      6.0      | Benton | 1012100.0 |         CANADIAN WHISKIES          |     260.0     |      Diageo Americas      |    11298    |   Crown Royal Canadian Whisky   |  6   |        1750        |       31.0        |        46.49        |      2       |     92.98      |         3.5          |         0.92          |\n",
      "+---+---------------------+------------+--------------+--------------------------------------+--------------------------+--------------+----------+------------------------------+---------------+--------+-----------+------------------------------------+---------------+---------------------------+-------------+---------------------------------+------+--------------------+-------------------+---------------------+--------------+----------------+----------------------+-----------------------+\n",
      "\n",
      "======================\n",
      "Shape of the DataFrame\n",
      "======================\n",
      "\n",
      "Le DataFrame contient 19666763 lignes et 24 colonnes\n",
      "\n",
      "=====================\n",
      "Info of the DataFrame\n",
      "=====================\n",
      "\n",
      "<class 'pandas.core.frame.DataFrame'>\n",
      "RangeIndex: 19666763 entries, 0 to 19666762\n",
      "Data columns (total 24 columns):\n",
      " #   Column                 Dtype  \n",
      "---  ------                 -----  \n",
      " 0   Invoice/Item Number    object \n",
      " 1   Date                   object \n",
      " 2   Store Number           int64  \n",
      " 3   Store Name             object \n",
      " 4   Address                object \n",
      " 5   City                   object \n",
      " 6   Zip Code               object \n",
      " 7   Store Location         object \n",
      " 8   County Number          float64\n",
      " 9   County                 object \n",
      " 10  Category               float64\n",
      " 11  Category Name          object \n",
      " 12  Vendor Number          float64\n",
      " 13  Vendor Name            object \n",
      " 14  Item Number            object \n",
      " 15  Item Description       object \n",
      " 16  Pack                   int64  \n",
      " 17  Bottle Volume (ml)     int64  \n",
      " 18  State Bottle Cost      float64\n",
      " 19  State Bottle Retail    float64\n",
      " 20  Bottles Sold           int64  \n",
      " 21  Sale (Dollars)         float64\n",
      " 22  Volume Sold (Liters)   float64\n",
      " 23  Volume Sold (Gallons)  float64\n",
      "dtypes: float64(8), int64(4), object(12)\n",
      "memory usage: 3.5+ GB\n",
      "\n"
     ]
    }
   ],
   "source": [
    "# read the file\n",
    "df = pd.read_csv('Liquor_sales.csv')\n",
    "\n",
    "def print_section_title(title):\n",
    "    print(\"\\n\" + \"=\"*len(title))\n",
    "    print(title)\n",
    "    print(\"=\"*len(title) + \"\\n\")\n",
    "\n",
    "print_section_title(\"First 5 Rows\")\n",
    "print(tabulate(df.head(), headers='keys', tablefmt='pretty'))\n",
    "\n",
    "print_section_title(\"Shape of the DataFrame\")\n",
    "print(f\"Le DataFrame contient {df.shape[0]} lignes et {df.shape[1]} colonnes\")\n",
    "\n",
    "# print_section_title(\"Columns of the DataFrame\")\n",
    "# print(tabulate(pd.DataFrame(df.columns, columns=['Column Name']), headers='keys', tablefmt='pretty'))\n",
    "\n",
    "# print_section_title(\"Data Types of the Columns\")\n",
    "# print(tabulate(pd.DataFrame(df.dtypes, columns=['Data Type']), headers='keys', tablefmt='pretty'))\n",
    "\n",
    "print_section_title(\"Info of the DataFrame\")\n",
    "info_buf = io.StringIO()\n",
    "df.info(buf=info_buf)\n",
    "info_buf.seek(0)\n",
    "print(info_buf.read())\n",
    "\n",
    "# print_section_title(\"Last 5 Rows\")\n",
    "# print(df.tail())\n",
    "# print_section_title(\"Summary Statistics of the DataFrame\")\n",
    "# print(df.describe())\n",
    "# print_section_title(\"Number of Missing Values in the DataFrame\")\n",
    "# print(df.isnull().sum())\n",
    "# print_section_title(\"Number of Unique Values in the DataFrame\")\n",
    "# print(df.nunique())"
   ]
  },
  {
   "cell_type": "markdown",
   "metadata": {},
   "source": [
    "##### Use chunk size"
   ]
  },
  {
   "cell_type": "markdown",
   "metadata": {},
   "source": [
    "Avantages de chunksize : Efficacité mémoire (Utile pour les très grands fichiers qui ne peuvent pas être chargés en mémoire en une seule fois) + Traitement par lots (Permet de traiter les données par lots)\n",
    "\n",
    "Inconvénients de chunksize : Surcharge de concaténation (Si vous devez concaténer tous les morceaux en un seul DataFrame, cela peut introduire une surcharge et ralentir le processus) + Complexité du code (Le traitement par morceaux peut rendre le code plus complexe par rapport à la lecture du fichier en une seule fois).\n",
    "\n",
    "En résumé, chunksize est un outil puissant pour gérer de grands fichiers CSV de manière efficace, mais il doit être utilisé judicieusement en fonction des besoins spécifiques de votre application et des ressources disponibles.\n"
   ]
  },
  {
   "cell_type": "markdown",
   "metadata": {},
   "source": [
    "1ère méthode"
   ]
  },
  {
   "cell_type": "code",
   "execution_count": null,
   "metadata": {},
   "outputs": [],
   "source": [
    "chunk_size = 1000\n",
    "chunks = []\n",
    "\n",
    "for chunk in pd.read_csv('Liquor_sales.csv', chunksize=chunk_size):\n",
    "    chunks.append(chunk)\n",
    "\n",
    "# Concatenate all chunks into a single DataFrame\n",
    "df = pd.concat(chunks, axis=0)\n",
    "\n",
    "def print_section_title(title):\n",
    "    print(\"\\n\" + \"=\"*len(title))\n",
    "    print(title)\n",
    "    print(\"=\"*len(title) + \"\\n\")\n",
    "\n",
    "print_section_title(\"First 5 Rows\")\n",
    "print(df.head())\n",
    "\n",
    "# print_section_title(\"Last 5 Rows\")\n",
    "# print(df.tail())\n",
    "\n",
    "print_section_title(\"Shape of the DataFrame\")\n",
    "print(df.shape)\n",
    "\n",
    "# le dataframe contient 19666763 lignes et 24 colonnes\n",
    "\n",
    "print_section_title(\"Columns of the DataFrame\")\n",
    "print(df.columns)\n",
    "\n",
    "# Print the data types of the columns\n",
    "print_section_title(\"Data Types of the Columns\")\n",
    "print(df.dtypes)\n",
    "\n",
    "# Print the info of the dataframe\n",
    "print_section_title(\"Info of the DataFrame\")\n",
    "print(df.info())\n",
    "\n",
    "# Print the summary statistics of the dataframe\n",
    "print_section_title(\"Summary Statistics of the DataFrame\")\n",
    "print(df.describe())\n",
    "\n",
    "# Print the number of missing values in the dataframe\n",
    "print_section_title(\"Number of Missing Values in the DataFrame\")\n",
    "print(df.isnull().sum())\n",
    "\n",
    "# Print the number of unique values in the dataframe\n",
    "print_section_title(\"Number of Unique Values in the DataFrame\")\n",
    "print(df.nunique())"
   ]
  },
  {
   "cell_type": "markdown",
   "metadata": {},
   "source": [
    "2ème méthode"
   ]
  },
  {
   "cell_type": "code",
   "execution_count": 11,
   "metadata": {},
   "outputs": [],
   "source": [
    "chunk_size = 1000\n",
    "\n",
    "# Lire le premier morceau pour obtenir un aperçu des données\n",
    "first_chunk = pd.read_csv('Liquor_sales.csv', chunksize=chunk_size).__next__()\n",
    "\n",
    "# Afficher les informations du premier morceau\n",
    "print(\"First 5 Rows\")\n",
    "print(first_chunk.head())\n",
    "\n",
    "print(\"\\nShape of the First Chunk\")\n",
    "print(first_chunk.shape)\n",
    "\n",
    "print(\"\\nColumns of the First Chunk\")\n",
    "print(first_chunk.columns)\n",
    "\n",
    "print(\"\\nData Types of the First Chunk\")\n",
    "print(first_chunk.dtypes)\n",
    "\n",
    "print(\"\\nSummary Statistics of the First Chunk\")\n",
    "print(first_chunk.describe())\n",
    "\n",
    "# Traiter chaque morceau individuellement\n",
    "for chunk in pd.read_csv('Liquor_sales.csv', chunksize=chunk_size):\n",
    "    # Effectuer des opérations sur chaque morceau ici\n",
    "    pass  # Remplacez par vos opérations spécifiques"
   ]
  },
  {
   "cell_type": "markdown",
   "metadata": {},
   "source": [
    "#### Duck DB"
   ]
  },
  {
   "cell_type": "code",
   "execution_count": 13,
   "metadata": {},
   "outputs": [],
   "source": [
    "import duckdb as ddb"
   ]
  },
  {
   "cell_type": "markdown",
   "metadata": {},
   "source": [
    "DuckDB est un système de gestion de base de données relationnelle en mémoire, et lors de la connexion, si le fichier spécifié n'existe pas, DuckDB le créera pour vous."
   ]
  },
  {
   "cell_type": "code",
   "execution_count": null,
   "metadata": {},
   "outputs": [],
   "source": [
    "con = ddb.connect(\"liquor-database.db\")\n",
    "con.execute(\"\"\"CREATE TABLE liquor AS \n",
    "               (SELECT * FROM read_csv('Liquor_Sales.csv', types={'Item Number': 'VARCHAR'}))\"\"\")\n",
    "# ou con.sql\n",
    "\n",
    "# Explore the data using DuckDB\n",
    "query_result = con.execute(\"SELECT * FROM liquor\") # ou con.sql\n",
    "df = query_result.fetchdf()\n",
    "\n",
    "# Use pandas to further explore and manipulate the data\n",
    "pandas_df = df.df()\n",
    "\n",
    "# Export data to a Parquet file\n",
    "pandas_df.to_parquet('liquor_data.parquet')\n",
    "\n",
    "# Close the connection to DuckDB\n",
    "con.close()"
   ]
  }
 ],
 "metadata": {
  "kernelspec": {
   "display_name": "Python 3",
   "language": "python",
   "name": "python3"
  },
  "language_info": {
   "codemirror_mode": {
    "name": "ipython",
    "version": 3
   },
   "file_extension": ".py",
   "mimetype": "text/x-python",
   "name": "python",
   "nbconvert_exporter": "python",
   "pygments_lexer": "ipython3",
   "version": "3.12.5"
  }
 },
 "nbformat": 4,
 "nbformat_minor": 2
}
